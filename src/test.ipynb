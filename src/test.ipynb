{
 "cells": [
  {
   "cell_type": "code",
   "execution_count": 3,
   "metadata": {},
   "outputs": [],
   "source": [
    "import cv2 as cv\n",
    "import numpy as np\n",
    "import matplotlib.pyplot as plt"
   ]
  },
  {
   "cell_type": "code",
   "execution_count": 26,
   "metadata": {},
   "outputs": [
    {
     "data": {
      "text/plain": [
       "<matplotlib.image.AxesImage at 0x1c476455790>"
      ]
     },
     "execution_count": 26,
     "metadata": {},
     "output_type": "execute_result"
    },
    {
     "data": {
      "image/png": "[encoded data removed]",
      "text/plain": [
       "<Figure size 432x288 with 1 Axes>"
      ]
     },
     "metadata": {
      "needs_background": "light"
     },
     "output_type": "display_data"
    }
   ],
   "source": [
    "img = cv.imread('../data/inputs/easy.jpg')\n",
    "img_gs = cv.cvtColor(img, cv.COLOR_BGR2GRAY)\n",
    "img_bn = cv.threshold(img_gs, 0, 255, cv.THRESH_BINARY_INV+cv.THRESH_OTSU)[1]\n",
    "plt.imshow(img_bn, cmap='gray')"
   ]
  },
  {
   "cell_type": "code",
   "execution_count": 23,
   "metadata": {},
   "outputs": [],
   "source": [
    "def gate_find(img):\n",
    "    m, n = img.shape\n",
    "    k1 = np.zeros(m)\n",
    "    for i in range(m):\n",
    "        for j in range(n):\n",
    "            if img[i,j] == 255:\n",
    "                k1[i] = j\n",
    "                break\n",
    "            elif j == n-1:\n",
    "                k1[i] = j\n",
    "    l1 = np.zeros(m)\n",
    "    for i in range(1, k1.shape[0]-1, 2):\n",
    "        l1[i] = k1[i+1] - k1[i-1]\n",
    "    l1 = np.abs(l1)\n",
    "    p1 = l1[l1 > 10]\n",
    "    r1 = len(p1)\n",
    "    # l1 = np.argsort(l1)\n",
    "    # l1 = l1[-r1:]\n",
    "    # y = np.mean(l1[0:2]).astype(int)\n",
    "    # x = k1[y].astype(int)\n",
    "    # for i in range(y, m):\n",
    "    #     if k1[i] != k1[y]:\n",
    "    #         x = k1[i].astype(int)\n",
    "    #         break\n",
    "    # return x, y\n",
    "\n",
    "    k2 = np.zeros(m)\n",
    "    for i in range(m):\n",
    "        for j in range(n-1, -1, -1):\n",
    "            if img[i,j] == 255:\n",
    "                k2[i] = j\n",
    "                break\n",
    "            elif j == 0:\n",
    "                k2[i] = j\n",
    "    l2 = np.zeros(m)\n",
    "    for i in range(1, k2.shape[0]-1, 2):\n",
    "        l2[i] = k2[i+1] - k2[i-1]\n",
    "    l2 = np.abs(l2)\n",
    "    p2 = l2[l2 > 10]\n",
    "    r2 = len(p2)\n",
    "\n",
    "    k3 = np.zeros(n)\n",
    "    for i in range(n):\n",
    "        for j in range(m):\n",
    "            if img[j,i] == 255:\n",
    "                k3[i] = j\n",
    "                break\n",
    "            elif j == m-1:\n",
    "                k3[i] = j\n",
    "    l3 = np.zeros(n)\n",
    "    for i in range(1, k3.shape[0]-1, 2):\n",
    "        l3[i] = k3[i+1] - k3[i-1]\n",
    "    l3 = np.abs(l3)\n",
    "    p3 = l3[l3 > 10]\n",
    "    r3 = len(p3)\n",
    "\n",
    "    k4 = np.zeros(n)\n",
    "    for i in range(n):\n",
    "        for j in range(m-1, -1, -1):\n",
    "            if img[j,i] == 255:\n",
    "                k4[i] = j\n",
    "                break\n",
    "            elif j == 0:\n",
    "                k4[i] = j\n",
    "    l4 = np.zeros(n)\n",
    "    for i in range(1, k4.shape[0]-1, 2):\n",
    "        l4[i] = k4[i+1] - k4[i-1]\n",
    "    l4 = np.abs(l4)\n",
    "    p4 = l4[l4 > 10]\n",
    "    r4 = len(p4)\n",
    "\n",
    "    print(sum(l1))\n",
    "    print(sum(l2))\n",
    "    print(sum(l3))\n",
    "    print(sum(l4))\n",
    "    \n",
    "    l = np.array([l1, l2, l3, l4])\n",
    "    r = np.array([r1, r2, r3, r4])\n",
    "    print(r)\n",
    "    r = np.argsort(r)\n",
    "    l = l[r[::-1]]\n",
    "    l = l[0:2]\n",
    "    print(sum(l[0]))\n",
    "    print(sum(l[1]))\n",
    "    g = []\n",
    "\n",
    "    if np.array_equal(l[0], l1):\n",
    "        l1 = np.argsort(l1)\n",
    "        l1 = l1[-r1:]\n",
    "        y = np.mean(l1[0:2]).astype(int)\n",
    "        x = k1[y].astype(int)\n",
    "        for i in range(y, m):\n",
    "            if k1[i] != k1[y]:\n",
    "                x = k1[i].astype(int)\n",
    "                break\n",
    "        g.append([x, y])\n",
    "        print('taken from l1')\n",
    "    elif np.array_equal(l[0], l2):\n",
    "        l2 = np.argsort(l2)\n",
    "        l2 = l2[-r2:]\n",
    "        y = np.mean(l2[0:2]).astype(int)\n",
    "        x = k2[y].astype(int)\n",
    "        for i in range(y, m):\n",
    "            if k2[i] != k2[y]:\n",
    "                x = k2[i].astype(int)\n",
    "                break\n",
    "        g.append([x, y])\n",
    "        print('taken from l2')\n",
    "    elif np.array_equal(l[0], l3):\n",
    "        l3 = np.argsort(l3)\n",
    "        l3 = l3[-r3:]\n",
    "        x = np.mean(l3[0:2]).astype(int)\n",
    "        y = k3[x].astype(int)\n",
    "        for i in range(x, n):\n",
    "            if k3[i] != k3[x]:\n",
    "                y = k3[i].astype(int)\n",
    "                break\n",
    "        g.append([x, y])\n",
    "        print('taken from l3')\n",
    "    elif np.array_equal(l[0], l4):\n",
    "        l4 = np.argsort(l4)\n",
    "        l4 = l4[-r4:]\n",
    "        x = np.mean(l4[0:2]).astype(int)\n",
    "        y = k4[x].astype(int)\n",
    "        for i in range(x, n):\n",
    "            if k4[i] != k4[x]:\n",
    "                y = k4[i].astype(int)\n",
    "                break\n",
    "        g.append([x, y])\n",
    "        print('taken from l4')\n",
    "        \n",
    "    if np.array_equal(l[1], l1):\n",
    "        l1 = np.argsort(l1)\n",
    "        l1 = l1[-r1:]\n",
    "        y = np.mean(l1[0:2]).astype(int)\n",
    "        x = k1[y].astype(int)\n",
    "        for i in range(y, m):\n",
    "            if k1[i] != k1[y]:\n",
    "                x = k1[i].astype(int)\n",
    "                break\n",
    "        g.append([x, y])\n",
    "        print('taken from l1')\n",
    "    elif np.array_equal(l[1], l2):\n",
    "        l2 = np.argsort(l2)\n",
    "        l2 = l2[-r2:]\n",
    "        y = np.mean(l2[0:2]).astype(int)\n",
    "        x = k2[y].astype(int)\n",
    "        for i in range(y, m):\n",
    "            if k2[i] != k2[y]:\n",
    "                x = k2[i].astype(int)\n",
    "                break\n",
    "        g.append([x, y])\n",
    "        print('taken from l2')\n",
    "    elif np.array_equal(l[1], l3):\n",
    "        l3 = np.argsort(l3)\n",
    "        l3 = l3[-r3:]\n",
    "        x = np.mean(l3[0:2]).astype(int)\n",
    "        y = k3[x].astype(int)\n",
    "        for i in range(x, n):\n",
    "            if k3[i] != k3[x]:\n",
    "                y = k3[i].astype(int)\n",
    "                break\n",
    "        g.append([x, y])\n",
    "        print('taken from l3')\n",
    "    elif np.array_equal(l[1], l4):\n",
    "        l4 = np.argsort(l4)\n",
    "        l4 = l4[-r4:]\n",
    "        x = np.mean(l4[0:2]).astype(int)\n",
    "        y = k4[x].astype(int)\n",
    "        for i in range(x, n):\n",
    "            if k4[i] != k4[x]:\n",
    "                y = k4[i].astype(int)\n",
    "                break\n",
    "        g.append([x, y])\n",
    "        print('taken from l4')\n",
    "    return g"
   ]
  },
  {
   "cell_type": "code",
   "execution_count": 25,
   "metadata": {},
   "outputs": [
    {
     "name": "stdout",
     "output_type": "stream",
     "text": [
      "1532.0\n",
      "1284.0\n",
      "1034.0\n",
      "1034.0\n",
      "[4 4 2 2]\n",
      "1284.0\n",
      "1532.0\n",
      "taken from l2\n",
      "taken from l1\n",
      "[[393, 119], [94, 492]]\n"
     ]
    },
    {
     "data": {
      "text/plain": [
       "<matplotlib.image.AxesImage at 0x1c475d04d60>"
      ]
     },
     "execution_count": 25,
     "metadata": {},
     "output_type": "execute_result"
    },
    {
     "data": {
      "image/png": "[encoded data removed]",
      "text/plain": [
       "<Figure size 720x720 with 1 Axes>"
      ]
     },
     "metadata": {
      "needs_background": "light"
     },
     "output_type": "display_data"
    }
   ],
   "source": [
    "g = gate_find(img_bn)\n",
    "print(g)\n",
    "figure = plt.figure(figsize=(10, 10))\n",
    "cv.circle(img, (g[0][0], g[0][1]), 5, (0, 0, 255), -1)\n",
    "plt.imshow(img)"
   ]
  }
 ],
 "metadata": {
  "kernelspec": {
   "display_name": "Python 3.9.12 ('sk')",
   "language": "python",
   "name": "python3"
  },
  "language_info": {
   "codemirror_mode": {
    "name": "ipython",
    "version": 3
   },
   "file_extension": ".py",
   "mimetype": "text/x-python",
   "name": "python",
   "nbconvert_exporter": "python",
   "pygments_lexer": "ipython3",
   "version": "3.9.12"
  },
  "orig_nbformat": 4,
  "vscode": {
   "interpreter": {
    "hash": "88a753c43b17087171adffffa8df0f44dacb588d76583af103687dee8b64c069"
   }
  }
 },
 "nbformat": 4,
 "nbformat_minor": 2
}
