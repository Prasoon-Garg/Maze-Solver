{
 "cells": [
  {
   "cell_type": "code",
   "execution_count": 1,
   "id": "18134bc0",
   "metadata": {},
   "outputs": [],
   "source": [
    "import numpy as np\n",
    "import cv2\n",
    "import matplotlib.pyplot as plt\n",
    "%matplotlib inline"
   ]
  },
  {
   "cell_type": "code",
   "execution_count": 2,
   "id": "6e8f2d8b",
   "metadata": {},
   "outputs": [],
   "source": [
    "img = cv2.imread('easy.jpg',0)"
   ]
  },
  {
   "cell_type": "code",
   "execution_count": 3,
   "id": "678cc7cd",
   "metadata": {},
   "outputs": [],
   "source": [
    "def threshold1(image,k):\n",
    "    height = image.shape[0]\n",
    "    width = image.shape[1]\n",
    "    out_arr = np.zeros((height,width))\n",
    "    for i in range(height):\n",
    "        for j in range(width):\n",
    "            if image[i][j] > k:\n",
    "                out_arr[i][j] = 1\n",
    "    return out_arr.astype('uint8')"
   ]
  },
  {
   "cell_type": "code",
   "execution_count": 4,
   "id": "f2128cb8",
   "metadata": {},
   "outputs": [],
   "source": [
    "img1 = threshold1(img,120)\n",
    "img1 = img1.astype('uint8')"
   ]
  },
  {
   "cell_type": "code",
   "execution_count": 5,
   "id": "a3949625",
   "metadata": {},
   "outputs": [],
   "source": [
    "def add_edge(adj,src,dest):\n",
    "    adj[src].append(dest)\n",
    "    \n",
    "def BFS(adj, src, dest, v, pred, dist):\n",
    " \n",
    "    queue = []\n",
    "  \n",
    "    visited = [False for i in range(v)];\n",
    "  \n",
    "    for i in range(v):\n",
    " \n",
    "        dist[i] = 1000000\n",
    "        pred[i] = -1;\n",
    "     \n",
    "    visited[src] = True;\n",
    "    dist[src] = 0;\n",
    "    queue.append(src);\n",
    "  \n",
    "    while (len(queue) != 0):\n",
    "        u = queue[0];\n",
    "        queue.pop(0);\n",
    "        for i in range(len(adj[u])):\n",
    "         \n",
    "            if (visited[adj[u][i]] == False):\n",
    "                visited[adj[u][i]] = True;\n",
    "                dist[adj[u][i]] = dist[u] + 1;\n",
    "                pred[adj[u][i]] = u;\n",
    "                queue.append(adj[u][i]);\n",
    "  \n",
    "                if (adj[u][i] == dest):\n",
    "                    return True;\n",
    "  \n",
    "    return False;\n",
    "  \n",
    "def printShortestDistance(adj, s, dest):\n",
    "    \n",
    "    v = len(adj)\n",
    "    \n",
    "    pred=[0 for i in range(v)]\n",
    "    dist=[0 for i in range(v)];\n",
    "  \n",
    "    if (BFS(adj, s, dest, v, pred, dist) == False):\n",
    "        print(\"Given source and destination are not connected\")\n",
    "        \n",
    "    else:\n",
    "        path = []\n",
    "        crawl = dest;\n",
    "        path.append(crawl);\n",
    "\n",
    "        while (pred[crawl] != -1):\n",
    "            path.append(pred[crawl]);\n",
    "            crawl = pred[crawl];\n",
    "\n",
    "        return path"
   ]
  },
  {
   "cell_type": "code",
   "execution_count": 6,
   "id": "ddec8046",
   "metadata": {},
   "outputs": [],
   "source": [
    "def create_graph(image):\n",
    "    h = image.shape[0]\n",
    "    w = image.shape[1]\n",
    "    adj_list = [[] for i in range(h*w)]\n",
    "    for i in range(h):\n",
    "        for j in range(w):\n",
    "            if image[i][j] == 1:\n",
    "                if i>0 and image[i-1][j] == 1:\n",
    "                    adj_list[(i*w)+j].append((i-1)*w + j)\n",
    "                if j>0 and image[i][j-1] == 1:\n",
    "                    adj_list[(i*w)+j].append(i*w + j - 1)\n",
    "                if i<h-1 and image[i+1][j] == 1:\n",
    "                    adj_list[(i*w)+j].append((i+1)*w + j)\n",
    "                if j<h-1 and image[i][j+1] == 1:\n",
    "                    adj_list[(i*w)+j].append(i*w + j + 1)\n",
    "    return adj_list"
   ]
  },
  {
   "cell_type": "code",
   "execution_count": 7,
   "id": "0d2ee12e",
   "metadata": {},
   "outputs": [],
   "source": [
    "graph = create_graph(img1)"
   ]
  },
  {
   "cell_type": "code",
   "execution_count": 8,
   "id": "e8f0ca6f",
   "metadata": {},
   "outputs": [],
   "source": [
    "h = img.shape[0]\n",
    "w = img.shape[1]"
   ]
  },
  {
   "cell_type": "markdown",
   "id": "d727850a",
   "metadata": {},
   "source": [
    "### Currenty manually enter the source and destination co-ordinates in below cell"
   ]
  },
  {
   "cell_type": "code",
   "execution_count": 9,
   "id": "9dc0abec",
   "metadata": {},
   "outputs": [],
   "source": [
    "source_row = 492\n",
    "source_col = 100\n",
    "destination_row = 119\n",
    "destination_col = 412"
   ]
  },
  {
   "cell_type": "code",
   "execution_count": 10,
   "id": "da3a53f0",
   "metadata": {},
   "outputs": [],
   "source": [
    "source = source_row*w + source_col\n",
    "destination = destination_row*w + destination_col"
   ]
  },
  {
   "cell_type": "code",
   "execution_count": 11,
   "id": "530ab015",
   "metadata": {},
   "outputs": [],
   "source": [
    "path = printShortestDistance(graph,source,destination)"
   ]
  },
  {
   "cell_type": "code",
   "execution_count": 12,
   "id": "48df1f95",
   "metadata": {},
   "outputs": [],
   "source": [
    "new_img = np.zeros((h,w,3),dtype = 'uint8')\n",
    "\n",
    "for i in range(h):\n",
    "    for j in range(w):\n",
    "        if img1[i][j] == 0:\n",
    "            new_img[i][j] = (0,0,0)\n",
    "        if img1[i][j] == 1:\n",
    "            new_img[i][j] = (255,255,255)\n",
    "for i in path:\n",
    "    x = int(i/w)\n",
    "    y = int(i%w)\n",
    "    new_img[x][y] = (255,0,0)"
   ]
  },
  {
   "cell_type": "code",
   "execution_count": 13,
   "id": "60ed8d2c",
   "metadata": {},
   "outputs": [
    {
     "data": {
      "text/plain": [
       "<matplotlib.image.AxesImage at 0x7f29d6ead700>"
      ]
     },
     "execution_count": 13,
     "metadata": {},
     "output_type": "execute_result"
    },
    {
     "data": {
      "image/png": "[encoded data removed]",
      "text/plain": [
       "<Figure size 432x288 with 1 Axes>"
      ]
     },
     "metadata": {
      "needs_background": "light"
     },
     "output_type": "display_data"
    }
   ],
   "source": [
    "plt.imshow(new_img)"
   ]
  },
  {
   "cell_type": "code",
   "execution_count": 14,
   "id": "793e141f",
   "metadata": {},
   "outputs": [],
   "source": [
    "def broaden_line(image,path):\n",
    "    h = image.shape[0]\n",
    "    w = image.shape[1]\n",
    "    for i in range(1,len(path)):\n",
    "        prev_x = int(path[i-1]/w)\n",
    "        prev_y = int(path[i-1]%w)\n",
    "        \n",
    "        curr_x = int(path[i]/w)\n",
    "        curr_y = int(path[i]%w)\n",
    "        \n",
    "        if(abs(prev_x-curr_x)==1):\n",
    "            for y in range(curr_y, curr_y-5,-1):\n",
    "                if(y<0 or image[curr_x][y][0]==0):\n",
    "                    break\n",
    "                image[curr_x][y] = (255,0,0)\n",
    "                \n",
    "            for y in range(curr_y, curr_y+5):\n",
    "                if(y>=w or image[curr_x][y][0]==0):\n",
    "                    break\n",
    "                image[curr_x][y] = (255,0,0)\n",
    "        \n",
    "        else:\n",
    "            for x in range(curr_x, curr_x-5,-1):\n",
    "                if(x<0 or image[x][curr_y][0]==0):\n",
    "                    break\n",
    "                image[x][curr_y] = (255,0,0)\n",
    "                \n",
    "            for x in range(curr_x, curr_x+5):\n",
    "                if(x>=h or image[x][curr_y][0]==0):\n",
    "                    break\n",
    "                image[x][curr_y] = (255,0,0)\n",
    "                \n",
    "    return image"
   ]
  },
  {
   "cell_type": "code",
   "execution_count": 15,
   "id": "7c3f3751",
   "metadata": {},
   "outputs": [],
   "source": [
    "final_img = broaden_line(new_img, path)"
   ]
  },
  {
   "cell_type": "code",
   "execution_count": 16,
   "id": "61c51c6a",
   "metadata": {},
   "outputs": [
    {
     "data": {
      "text/plain": [
       "<matplotlib.image.AxesImage at 0x7f29d6d9e940>"
      ]
     },
     "execution_count": 16,
     "metadata": {},
     "output_type": "execute_result"
    },
    {
     "data": {
      "image/png": "[encoded data removed]",
      "text/plain": [
       "<Figure size 432x288 with 1 Axes>"
      ]
     },
     "metadata": {
      "needs_background": "light"
     },
     "output_type": "display_data"
    }
   ],
   "source": [
    "plt.imshow(final_img)"
   ]
  },
  {
   "cell_type": "code",
   "execution_count": 17,
   "id": "9fc6e798",
   "metadata": {},
   "outputs": [
    {
     "data": {
      "text/plain": [
       "True"
      ]
     },
     "execution_count": 17,
     "metadata": {},
     "output_type": "execute_result"
    }
   ],
   "source": [
    "cv2.imwrite('Solution_Circular.jpg',cv2.cvtColor(final_img, cv2.COLOR_RGB2BGR))"
   ]
  },
  {
   "cell_type": "code",
   "execution_count": null,
   "id": "d8acbab8",
   "metadata": {},
   "outputs": [],
   "source": []
  },
  {
   "cell_type": "code",
   "execution_count": null,
   "id": "92dee2b5",
   "metadata": {},
   "outputs": [],
   "source": []
  },
  {
   "cell_type": "code",
   "execution_count": null,
   "id": "63788ac5",
   "metadata": {},
   "outputs": [],
   "source": []
  },
  {
   "cell_type": "code",
   "execution_count": null,
   "id": "e4cf3602",
   "metadata": {},
   "outputs": [],
   "source": []
  },
  {
   "cell_type": "code",
   "execution_count": null,
   "id": "75d8302c",
   "metadata": {},
   "outputs": [],
   "source": []
  },
  {
   "cell_type": "code",
   "execution_count": null,
   "id": "5e6d21af",
   "metadata": {},
   "outputs": [],
   "source": []
  },
  {
   "cell_type": "code",
   "execution_count": null,
   "id": "9a002f78",
   "metadata": {},
   "outputs": [],
   "source": []
  },
  {
   "cell_type": "code",
   "execution_count": null,
   "id": "2488dba5",
   "metadata": {},
   "outputs": [],
   "source": []
  },
  {
   "cell_type": "code",
   "execution_count": null,
   "id": "57fb6fef",
   "metadata": {},
   "outputs": [],
   "source": []
  },
  {
   "cell_type": "code",
   "execution_count": null,
   "id": "a502f815",
   "metadata": {},
   "outputs": [],
   "source": []
  },
  {
   "cell_type": "code",
   "execution_count": null,
   "id": "533d8c1e",
   "metadata": {},
   "outputs": [],
   "source": []
  },
  {
   "cell_type": "code",
   "execution_count": null,
   "id": "853b57e2",
   "metadata": {},
   "outputs": [],
   "source": []
  },
  {
   "cell_type": "code",
   "execution_count": 18,
   "id": "a6ad909a",
   "metadata": {},
   "outputs": [],
   "source": [
    "import numpy as np\n",
    "import cv2\n",
    "import matplotlib.pyplot as plt\n",
    "%matplotlib inline"
   ]
  },
  {
   "cell_type": "code",
   "execution_count": 19,
   "id": "3b30f75e",
   "metadata": {},
   "outputs": [],
   "source": [
    "img = cv2.imread('easy.jpg',0)"
   ]
  },
  {
   "cell_type": "code",
   "execution_count": 38,
   "id": "1742fd2a",
   "metadata": {},
   "outputs": [],
   "source": [
    "def threshold(image,k):\n",
    "    height = image.shape[0]\n",
    "    width = image.shape[1]\n",
    "    out_arr = np.zeros((height,width))\n",
    "    for i in range(height):\n",
    "        for j in range(width):\n",
    "            if image[i][j] > k:\n",
    "                out_arr[i][j] = 1\n",
    "    return out_arr.astype('uint8')\n",
    "\n",
    "def threshold1(image,k):\n",
    "    height = image.shape[0]\n",
    "    width = image.shape[1]\n",
    "    out_arr = np.ones((height,width))\n",
    "    for i in range(height):\n",
    "        for j in range(width):\n",
    "            if image[i][j] > k:\n",
    "                out_arr[i][j] = 0\n",
    "    return out_arr.astype('uint8')"
   ]
  },
  {
   "cell_type": "code",
   "execution_count": 39,
   "id": "42a627c5",
   "metadata": {},
   "outputs": [],
   "source": [
    "imgg1 = threshold(img,120)\n",
    "img1 = threshold1(img,120)"
   ]
  },
  {
   "cell_type": "code",
   "execution_count": 22,
   "id": "01099f1d",
   "metadata": {},
   "outputs": [],
   "source": [
    "kernel = np.ones((3, 3), np.uint8)"
   ]
  },
  {
   "cell_type": "code",
   "execution_count": 23,
   "id": "b58ede06",
   "metadata": {},
   "outputs": [],
   "source": [
    "img2 = cv2.erode(img1,kernel)"
   ]
  },
  {
   "cell_type": "code",
   "execution_count": 24,
   "id": "85957605",
   "metadata": {},
   "outputs": [],
   "source": [
    "img3 = img1- img2"
   ]
  },
  {
   "cell_type": "code",
   "execution_count": 25,
   "id": "2c58f3a1",
   "metadata": {},
   "outputs": [
    {
     "data": {
      "text/plain": [
       "<matplotlib.image.AxesImage at 0x7f29d45823a0>"
      ]
     },
     "execution_count": 25,
     "metadata": {},
     "output_type": "execute_result"
    },
    {
     "data": {
      "image/png": "[encoded data removed]",
      "text/plain": [
       "<Figure size 432x288 with 1 Axes>"
      ]
     },
     "metadata": {
      "needs_background": "light"
     },
     "output_type": "display_data"
    }
   ],
   "source": [
    "plt.imshow(img3,cmap= 'gray')"
   ]
  },
  {
   "cell_type": "code",
   "execution_count": 26,
   "id": "aa3bb96a",
   "metadata": {},
   "outputs": [],
   "source": [
    "h = img3.shape[0]\n",
    "w = img3.shape[1]"
   ]
  },
  {
   "cell_type": "code",
   "execution_count": 27,
   "id": "0e1a9320",
   "metadata": {},
   "outputs": [],
   "source": [
    "def top_left(img):\n",
    "    left_top = []\n",
    "    h,w = img.shape\n",
    "    for i in range(h):\n",
    "        for j in range(w):\n",
    "            if img[i][j] == 1:\n",
    "                left_top.append(i)\n",
    "                left_top.append(j)\n",
    "                return left_top\n",
    "\n",
    "def bottom_right(img):\n",
    "    right_bottom = []\n",
    "    h,w = img.shape\n",
    "    for i in range(h-1,0,-1):\n",
    "        for j in range(w-1,0,-1):\n",
    "            if img[i][j] == 1:\n",
    "                right_bottom.append(i)\n",
    "                right_bottom.append(j)\n",
    "                return right_bottom"
   ]
  },
  {
   "cell_type": "code",
   "execution_count": 28,
   "id": "7786d80b",
   "metadata": {},
   "outputs": [],
   "source": [
    "left_top = top_left(img3)\n",
    "right_bottom = bottom_right(img3)"
   ]
  },
  {
   "cell_type": "code",
   "execution_count": 29,
   "id": "02092090",
   "metadata": {},
   "outputs": [],
   "source": [
    "multi_fac = np.zeros((h,w))\n",
    "multi_fac[left_top[0]:right_bottom[0],left_top[1]:right_bottom[1]] = 1"
   ]
  },
  {
   "cell_type": "code",
   "execution_count": 30,
   "id": "e30e0149",
   "metadata": {},
   "outputs": [],
   "source": [
    "temp1 = (np.logical_not(img1)).astype(int)\n",
    "temp = temp1*multi_fac"
   ]
  },
  {
   "cell_type": "code",
   "execution_count": 31,
   "id": "eb42cf2c",
   "metadata": {},
   "outputs": [
    {
     "data": {
      "text/plain": [
       "<matplotlib.image.AxesImage at 0x7f29d4556e50>"
      ]
     },
     "execution_count": 31,
     "metadata": {},
     "output_type": "execute_result"
    },
    {
     "data": {
      "image/png": "[encoded data removed]",
      "text/plain": [
       "<Figure size 432x288 with 1 Axes>"
      ]
     },
     "metadata": {
      "needs_background": "light"
     },
     "output_type": "display_data"
    }
   ],
   "source": [
    "plt.imshow(temp,cmap='gray')"
   ]
  },
  {
   "cell_type": "code",
   "execution_count": 32,
   "id": "6c8a25a3",
   "metadata": {},
   "outputs": [],
   "source": [
    "source_row = 490\n",
    "source_col = 110\n",
    "destination_row = 110\n",
    "destination_col = 490\n",
    "\n",
    "source = source_row*w + source_col\n",
    "destination = destination_row*w + destination_col"
   ]
  },
  {
   "cell_type": "code",
   "execution_count": 33,
   "id": "21b37add",
   "metadata": {},
   "outputs": [],
   "source": [
    "graph = create_graph(temp)"
   ]
  },
  {
   "cell_type": "code",
   "execution_count": 34,
   "id": "770a821b",
   "metadata": {},
   "outputs": [],
   "source": [
    "path = printShortestDistance(graph,source,destination)"
   ]
  },
  {
   "cell_type": "code",
   "execution_count": 40,
   "id": "151d3f8e",
   "metadata": {},
   "outputs": [],
   "source": [
    "new_img = np.zeros((h,w,3),dtype = 'uint8')\n",
    "\n",
    "for i in range(h):\n",
    "    for j in range(w):\n",
    "        if imgg1[i][j] == 0:\n",
    "            new_img[i][j] = (0,0,0)\n",
    "        if imgg1[i][j] == 1:\n",
    "            new_img[i][j] = (255,255,255)\n",
    "for i in path:\n",
    "    x = int(i/w)\n",
    "    y = int(i%w)\n",
    "    new_img[x][y] = (255,0,0)"
   ]
  },
  {
   "cell_type": "code",
   "execution_count": 41,
   "id": "481119b2",
   "metadata": {},
   "outputs": [],
   "source": [
    "final_img = broaden_line(new_img, path)"
   ]
  },
  {
   "cell_type": "code",
   "execution_count": 42,
   "id": "c5067473",
   "metadata": {},
   "outputs": [
    {
     "data": {
      "text/plain": [
       "<matplotlib.image.AxesImage at 0x7f29dd077d00>"
      ]
     },
     "execution_count": 42,
     "metadata": {},
     "output_type": "execute_result"
    },
    {
     "data": {
      "image/png": "[encoded data removed]",
      "text/plain": [
       "<Figure size 432x288 with 1 Axes>"
      ]
     },
     "metadata": {
      "needs_background": "light"
     },
     "output_type": "display_data"
    }
   ],
   "source": [
    "plt.imshow(final_img)"
   ]
  },
  {
   "cell_type": "code",
   "execution_count": null,
   "id": "524c3a25",
   "metadata": {},
   "outputs": [],
   "source": []
  },
  {
   "cell_type": "code",
   "execution_count": null,
   "id": "490e767f",
   "metadata": {},
   "outputs": [],
   "source": []
  }
 ],
 "metadata": {
  "kernelspec": {
   "display_name": "Python 3.9.12 ('sk')",
   "language": "python",
   "name": "python3"
  },
  "language_info": {
   "codemirror_mode": {
    "name": "ipython",
    "version": 3
   },
   "file_extension": ".py",
   "mimetype": "text/x-python",
   "name": "python",
   "nbconvert_exporter": "python",
   "pygments_lexer": "ipython3",
   "version": "3.9.12"
  },
  "vscode": {
   "interpreter": {
    "hash": "88a753c43b17087171adffffa8df0f44dacb588d76583af103687dee8b64c069"
   }
  }
 },
 "nbformat": 4,
 "nbformat_minor": 5
}
