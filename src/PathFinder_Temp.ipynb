{
 "cells": [
  {
   "cell_type": "code",
   "execution_count": 1,
   "id": "18134bc0",
   "metadata": {},
   "outputs": [],
   "source": [
    "import numpy as np\n",
    "import cv2\n",
    "import matplotlib.pyplot as plt\n",
    "%matplotlib inline"
   ]
  },
  {
   "cell_type": "code",
   "execution_count": 2,
   "id": "6e8f2d8b",
   "metadata": {},
   "outputs": [],
   "source": [
    "img = cv2.imread('test1.png',0)"
   ]
  },
  {
   "cell_type": "code",
   "execution_count": 3,
   "id": "678cc7cd",
   "metadata": {},
   "outputs": [],
   "source": [
    "def threshold1(image,k):\n",
    "    height = image.shape[0]\n",
    "    width = image.shape[1]\n",
    "    out_arr = np.zeros((height,width))\n",
    "    for i in range(height):\n",
    "        for j in range(width):\n",
    "            if image[i][j] > k:\n",
    "                out_arr[i][j] = 1\n",
    "    return out_arr"
   ]
  },
  {
   "cell_type": "code",
   "execution_count": 4,
   "id": "f2128cb8",
   "metadata": {},
   "outputs": [],
   "source": [
    "img1 = threshold1(img,120)\n",
    "img1 = img1.astype('uint8')"
   ]
  },
  {
   "cell_type": "code",
   "execution_count": 5,
   "id": "10ae6587",
   "metadata": {},
   "outputs": [],
   "source": [
    "def add_edge(adj,src,dest):\n",
    "    adj[src].append(dest)\n",
    "    \n",
    "def BFS(adj, src, dest, v, pred, dist):\n",
    " \n",
    "    queue = []\n",
    "  \n",
    "    visited = [False for i in range(v)];\n",
    "  \n",
    "    for i in range(v):\n",
    " \n",
    "        dist[i] = 1000000\n",
    "        pred[i] = -1;\n",
    "     \n",
    "    visited[src] = True;\n",
    "    dist[src] = 0;\n",
    "    queue.append(src);\n",
    "  \n",
    "    while (len(queue) != 0):\n",
    "        u = queue[0];\n",
    "        queue.pop(0);\n",
    "        for i in range(len(adj[u])):\n",
    "         \n",
    "            if (visited[adj[u][i]] == False):\n",
    "                visited[adj[u][i]] = True;\n",
    "                dist[adj[u][i]] = dist[u] + 1;\n",
    "                pred[adj[u][i]] = u;\n",
    "                queue.append(adj[u][i]);\n",
    "  \n",
    "                if (adj[u][i] == dest):\n",
    "                    return True;\n",
    "  \n",
    "    return False;\n",
    "  \n",
    "def printShortestDistance(adj, s, dest):\n",
    "    \n",
    "    v = len(adj)\n",
    "    \n",
    "    pred=[0 for i in range(v)]\n",
    "    dist=[0 for i in range(v)];\n",
    "  \n",
    "    if (BFS(adj, s, dest, v, pred, dist) == False):\n",
    "        print(\"Given source and destination are not connected\")\n",
    "        \n",
    "    else:\n",
    "        path = []\n",
    "        crawl = dest;\n",
    "        path.append(crawl);\n",
    "\n",
    "        while (pred[crawl] != -1):\n",
    "            path.append(pred[crawl]);\n",
    "            crawl = pred[crawl];\n",
    "\n",
    "        return path"
   ]
  },
  {
   "cell_type": "code",
   "execution_count": 6,
   "id": "1819d52e",
   "metadata": {},
   "outputs": [],
   "source": [
    "def create_graph(image):\n",
    "    h = image.shape[0]\n",
    "    w = image.shape[1]\n",
    "    adj_list = [[] for i in range(h*w)]\n",
    "    for i in range(h):\n",
    "        for j in range(w):\n",
    "            if image[i][j] == 1:\n",
    "                if i>0 and image[i-1][j] == 1:\n",
    "                    adj_list[(i*w)+j].append((i-1)*w + j)\n",
    "                if j>0 and image[i][j-1] == 1:\n",
    "                    adj_list[(i*w)+j].append(i*w + j - 1)\n",
    "                if i<h-1 and image[i+1][j] == 1:\n",
    "                    adj_list[(i*w)+j].append((i+1)*w + j)\n",
    "                if j<h-1 and image[i][j+1] == 1:\n",
    "                    adj_list[(i*w)+j].append(i*w + j + 1)\n",
    "    return adj_list"
   ]
  },
  {
   "cell_type": "code",
   "execution_count": 7,
   "id": "7fc9c913",
   "metadata": {},
   "outputs": [],
   "source": [
    "graph = create_graph(img1)"
   ]
  },
  {
   "cell_type": "code",
   "execution_count": 8,
   "id": "2c24fd62",
   "metadata": {},
   "outputs": [],
   "source": [
    "h = img.shape[0]\n",
    "w = img.shape[1]"
   ]
  },
  {
   "cell_type": "markdown",
   "id": "daabf664",
   "metadata": {},
   "source": [
    "### Currenty manually enter the source and destination co-ordinates in below cell"
   ]
  },
  {
   "cell_type": "code",
   "execution_count": 9,
   "id": "f2341c8f",
   "metadata": {},
   "outputs": [],
   "source": [
    "source_row = 320\n",
    "source_col = 167\n",
    "destination_row = 2\n",
    "destination_col = 152"
   ]
  },
  {
   "cell_type": "code",
   "execution_count": 10,
   "id": "b850924b",
   "metadata": {},
   "outputs": [],
   "source": [
    "source = source_row*w + source_col\n",
    "destination = destination_row*w + destination_col"
   ]
  },
  {
   "cell_type": "code",
   "execution_count": 11,
   "id": "19495a77",
   "metadata": {},
   "outputs": [],
   "source": [
    "path = printShortestDistance(graph,source,destination)"
   ]
  },
  {
   "cell_type": "code",
   "execution_count": 12,
   "id": "67a7c9d5",
   "metadata": {},
   "outputs": [],
   "source": [
    "new_img = np.zeros((h,w,3),dtype = 'uint8')\n",
    "\n",
    "for i in range(h):\n",
    "    for j in range(w):\n",
    "        if img1[i][j] == 0:\n",
    "            new_img[i][j] = (0,0,0)\n",
    "        if img1[i][j] == 1:\n",
    "            new_img[i][j] = (255,255,255)\n",
    "for i in path:\n",
    "    x = int(i/w)\n",
    "    y = int(i%w)\n",
    "    new_img[x][y] = (255,0,0)"
   ]
  },
  {
   "cell_type": "code",
   "execution_count": 13,
   "id": "0f18fe1a",
   "metadata": {},
   "outputs": [
    {
     "data": {
      "text/plain": [
       "<matplotlib.image.AxesImage at 0x7fa7ebb2ca90>"
      ]
     },
     "execution_count": 13,
     "metadata": {},
     "output_type": "execute_result"
    },
    {
     "data": {
      "image/png": "[encoded data removed]",
      "text/plain": [
       "<Figure size 432x288 with 1 Axes>"
      ]
     },
     "metadata": {
      "needs_background": "light"
     },
     "output_type": "display_data"
    }
   ],
   "source": [
    "plt.imshow(new_img)"
   ]
  },
  {
   "cell_type": "code",
   "execution_count": 14,
   "id": "c59de8f9",
   "metadata": {},
   "outputs": [],
   "source": [
    "def broaden_line(image,path):\n",
    "    h = image.shape[0]\n",
    "    w = image.shape[1]\n",
    "    for i in range(1,len(path)):\n",
    "        prev_x = int(path[i-1]/w)\n",
    "        prev_y = int(path[i-1]%w)\n",
    "        \n",
    "        curr_x = int(path[i]/w)\n",
    "        curr_y = int(path[i]%w)\n",
    "        \n",
    "        if(abs(prev_x-curr_x)==1):\n",
    "            for y in range(curr_y, curr_y-5,-1):\n",
    "                if(y<0 or image[curr_x][y][0]==0):\n",
    "                    break\n",
    "                image[curr_x][y] = (255,0,0)\n",
    "                \n",
    "            for y in range(curr_y, curr_y+5):\n",
    "                if(y>=w or image[curr_x][y][0]==0):\n",
    "                    break\n",
    "                image[curr_x][y] = (255,0,0)\n",
    "        \n",
    "        else:\n",
    "            for x in range(curr_x, curr_x-5,-1):\n",
    "                if(x<0 or image[x][curr_y][0]==0):\n",
    "                    break\n",
    "                image[x][curr_y] = (255,0,0)\n",
    "                \n",
    "            for x in range(curr_x, curr_x+5):\n",
    "                if(x>=h or image[x][curr_y][0]==0):\n",
    "                    break\n",
    "                image[x][curr_y] = (255,0,0)\n",
    "                \n",
    "    return image"
   ]
  },
  {
   "cell_type": "code",
   "execution_count": 15,
   "id": "4933376a",
   "metadata": {},
   "outputs": [],
   "source": [
    "final_img = broaden_line(new_img, path)"
   ]
  },
  {
   "cell_type": "code",
   "execution_count": 16,
   "id": "547a77f5",
   "metadata": {},
   "outputs": [
    {
     "data": {
      "text/plain": [
       "<matplotlib.image.AxesImage at 0x7fa7e9a1c9a0>"
      ]
     },
     "execution_count": 16,
     "metadata": {},
     "output_type": "execute_result"
    },
    {
     "data": {
      "image/png": "[encoded data removed]",
      "text/plain": [
       "<Figure size 432x288 with 1 Axes>"
      ]
     },
     "metadata": {
      "needs_background": "light"
     },
     "output_type": "display_data"
    }
   ],
   "source": [
    "plt.imshow(final_img)"
   ]
  },
  {
   "cell_type": "code",
   "execution_count": null,
   "id": "23430dc7",
   "metadata": {},
   "outputs": [],
   "source": []
  }
 ],
 "metadata": {
  "kernelspec": {
   "display_name": "Python 3 (ipykernel)",
   "language": "python",
   "name": "python3"
  },
  "language_info": {
   "codemirror_mode": {
    "name": "ipython",
    "version": 3
   },
   "file_extension": ".py",
   "mimetype": "text/x-python",
   "name": "python",
   "nbconvert_exporter": "python",
   "pygments_lexer": "ipython3",
   "version": "3.8.10"
  }
 },
 "nbformat": 4,
 "nbformat_minor": 5
}
