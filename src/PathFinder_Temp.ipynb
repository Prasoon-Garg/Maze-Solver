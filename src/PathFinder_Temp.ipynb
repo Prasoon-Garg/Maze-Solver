{
 "cells": [
  {
   "cell_type": "code",
   "execution_count": 218,
   "id": "18134bc0",
   "metadata": {},
   "outputs": [],
   "source": [
    "import numpy as np\n",
    "import cv2\n",
    "import matplotlib.pyplot as plt\n",
    "%matplotlib inline"
   ]
  },
  {
   "cell_type": "code",
   "execution_count": 219,
   "id": "6e8f2d8b",
   "metadata": {},
   "outputs": [],
   "source": [
    "img = cv2.imread('easy.jpg',0)"
   ]
  },
  {
   "cell_type": "code",
   "execution_count": 220,
   "id": "678cc7cd",
   "metadata": {},
   "outputs": [],
   "source": [
    "def threshold1(image,k):\n",
    "    height = image.shape[0]\n",
    "    width = image.shape[1]\n",
    "    out_arr = np.zeros((height,width))\n",
    "    for i in range(height):\n",
    "        for j in range(width):\n",
    "            if image[i][j] > k:\n",
    "                out_arr[i][j] = 1\n",
    "    return out_arr"
   ]
  },
  {
   "cell_type": "code",
   "execution_count": 221,
   "id": "f2128cb8",
   "metadata": {},
   "outputs": [],
   "source": [
    "img1 = threshold1(img,120)\n",
    "img1 = img1.astype('uint8')"
   ]
  },
  {
   "cell_type": "code",
   "execution_count": 222,
   "id": "5eb3d6b9",
   "metadata": {},
   "outputs": [],
   "source": [
    "def add_edge(adj,src,dest):\n",
    "    adj[src].append(dest)\n",
    "    \n",
    "def BFS(adj, src, dest, v, pred, dist):\n",
    " \n",
    "    queue = []\n",
    "  \n",
    "    visited = [False for i in range(v)];\n",
    "  \n",
    "    for i in range(v):\n",
    " \n",
    "        dist[i] = 1000000\n",
    "        pred[i] = -1;\n",
    "     \n",
    "    visited[src] = True;\n",
    "    dist[src] = 0;\n",
    "    queue.append(src);\n",
    "  \n",
    "    while (len(queue) != 0):\n",
    "        u = queue[0];\n",
    "        queue.pop(0);\n",
    "        for i in range(len(adj[u])):\n",
    "         \n",
    "            if (visited[adj[u][i]] == False):\n",
    "                visited[adj[u][i]] = True;\n",
    "                dist[adj[u][i]] = dist[u] + 1;\n",
    "                pred[adj[u][i]] = u;\n",
    "                queue.append(adj[u][i]);\n",
    "  \n",
    "                if (adj[u][i] == dest):\n",
    "                    return True;\n",
    "  \n",
    "    return False;\n",
    "  \n",
    "def printShortestDistance(adj, s, dest):\n",
    "    \n",
    "    v = len(adj)\n",
    "    \n",
    "    pred=[0 for i in range(v)]\n",
    "    dist=[0 for i in range(v)];\n",
    "  \n",
    "    if (BFS(adj, s, dest, v, pred, dist) == False):\n",
    "        print(\"Given source and destination are not connected\")\n",
    "    \n",
    "    path = []\n",
    "    crawl = dest;\n",
    "    path.append(crawl);\n",
    "     \n",
    "    while (pred[crawl] != -1):\n",
    "        path.append(pred[crawl]);\n",
    "        crawl = pred[crawl];\n",
    "     \n",
    "    return path"
   ]
  },
  {
   "cell_type": "code",
   "execution_count": 223,
   "id": "a6c7b5f6",
   "metadata": {},
   "outputs": [],
   "source": [
    "def create_graph(image):\n",
    "    h = image.shape[0]\n",
    "    w = image.shape[1]\n",
    "    adj_list = [[] for i in range(h*w)]\n",
    "    for i in range(h):\n",
    "        for j in range(w):\n",
    "            if image[i][j] == 1:\n",
    "                if i>0 and image[i-1][j] == 1:\n",
    "                    adj_list[(i*w)+j].append((i-1)*w + j)\n",
    "                if j>0 and image[i][j-1] == 1:\n",
    "                    adj_list[(i*w)+j].append(i*w + j - 1)\n",
    "                if i<h-1 and image[i+1][j] == 1:\n",
    "                    adj_list[(i*w)+j].append((i+1)*w + j)\n",
    "                if j<h-1 and image[i][j+1] == 1:\n",
    "                    adj_list[(i*w)+j].append(i*w + j + 1)\n",
    "    return adj_list"
   ]
  },
  {
   "cell_type": "code",
   "execution_count": 224,
   "id": "f64ce39f",
   "metadata": {},
   "outputs": [],
   "source": [
    "graph = create_graph(img1)"
   ]
  },
  {
   "cell_type": "code",
   "execution_count": 225,
   "id": "03a58a7e",
   "metadata": {},
   "outputs": [],
   "source": [
    "h = img.shape[0]\n",
    "w = img.shape[1]"
   ]
  },
  {
   "cell_type": "markdown",
   "id": "bfcfed0a",
   "metadata": {},
   "source": [
    "### Currenty manually enter the source and destination co-ordinates in below cell"
   ]
  },
  {
   "cell_type": "code",
   "execution_count": 226,
   "id": "125ebfd4",
   "metadata": {},
   "outputs": [],
   "source": [
    "source_row = 21\n",
    "source_col = 415\n",
    "destination_row = 394\n",
    "destination_col = 3"
   ]
  },
  {
   "cell_type": "code",
   "execution_count": 227,
   "id": "da1529b0",
   "metadata": {},
   "outputs": [],
   "source": [
    "source = source_row*w + source_col\n",
    "destination = destination_row*w + destination_col"
   ]
  },
  {
   "cell_type": "code",
   "execution_count": 228,
   "id": "ed53a9d6",
   "metadata": {},
   "outputs": [],
   "source": [
    "path = printShortestDistance(graph,source,destination)"
   ]
  },
  {
   "cell_type": "code",
   "execution_count": 229,
   "id": "b295fe0a",
   "metadata": {},
   "outputs": [],
   "source": [
    "new_img = np.zeros((h,w,3),dtype = 'uint8')\n",
    "\n",
    "for i in range(h):\n",
    "    for j in range(w):\n",
    "        if img1[i][j] == 0:\n",
    "            new_img[i][j][0] = 0\n",
    "            new_img[i][j][1] = 0\n",
    "            new_img[i][j][2] = 0\n",
    "        if img1[i][j] == 1:\n",
    "            new_img[i][j][0] = 255\n",
    "            new_img[i][j][1] = 255\n",
    "            new_img[i][j][2] = 255\n",
    "for i in path:\n",
    "    x = int(i/w)\n",
    "    y = int(i%w)\n",
    "    new_img[x][y][0] = 255\n",
    "    new_img[x][y][1] = 0\n",
    "    new_img[x][y][2] = 0"
   ]
  },
  {
   "cell_type": "code",
   "execution_count": 230,
   "id": "e00e5218",
   "metadata": {},
   "outputs": [
    {
     "data": {
      "text/plain": [
       "<matplotlib.image.AxesImage at 0x7f3fb0249310>"
      ]
     },
     "execution_count": 230,
     "metadata": {},
     "output_type": "execute_result"
    },
    {
     "data": {
      "image/png": "[encoded data removed]",
      "text/plain": [
       "<Figure size 432x288 with 1 Axes>"
      ]
     },
     "metadata": {
      "needs_background": "light"
     },
     "output_type": "display_data"
    }
   ],
   "source": [
    "plt.imshow(new_img)"
   ]
  },
  {
   "cell_type": "code",
   "execution_count": null,
   "id": "bc12e428",
   "metadata": {},
   "outputs": [],
   "source": []
  }
 ],
 "metadata": {
  "kernelspec": {
   "display_name": "Python 3 (ipykernel)",
   "language": "python",
   "name": "python3"
  },
  "language_info": {
   "codemirror_mode": {
    "name": "ipython",
    "version": 3
   },
   "file_extension": ".py",
   "mimetype": "text/x-python",
   "name": "python",
   "nbconvert_exporter": "python",
   "pygments_lexer": "ipython3",
   "version": "3.8.10"
  }
 },
 "nbformat": 4,
 "nbformat_minor": 5
}
